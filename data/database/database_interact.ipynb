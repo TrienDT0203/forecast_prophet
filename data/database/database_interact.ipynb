{
 "cells": [
  {
   "cell_type": "code",
   "execution_count": 2,
   "metadata": {},
   "outputs": [],
   "source": [
    "# !pip install duckdb-engine\n",
    "# !pip install duckdb`\n",
    "\n",
    "# con = duckdb.connect(database=':memory:', read_only=False)\n",
    "# con.execute(\"INSTALL sqlite\")"
   ]
  },
  {
   "cell_type": "markdown",
   "metadata": {
    "ExecuteTime": {
     "end_time": "2024-05-05T16:34:01.572842Z",
     "start_time": "2024-05-05T16:34:00.882212Z"
    }
   },
   "source": [
    "##### `Import lib and create a connection`"
   ]
  },
  {
   "cell_type": "code",
   "execution_count": 1,
   "metadata": {
    "ExecuteTime": {
     "end_time": "2024-05-05T16:31:52.780027Z",
     "start_time": "2024-05-05T16:31:51.331915Z"
    }
   },
   "outputs": [],
   "source": [
    "import duckdb\n",
    "import polars as pl\n",
    "from datetime import datetime\n",
    "\n",
    "conn = duckdb.connect()\n",
    "conn.execute(\"LOAD sqlite;\")\n",
    "fa_database = duckdb.connect('fa_database.db')"
   ]
  },
  {
   "cell_type": "markdown",
   "metadata": {},
   "source": [
    "##### `Check no of row and fetch all data`"
   ]
  },
  {
   "cell_type": "code",
   "execution_count": 3,
   "metadata": {
    "ExecuteTime": {
     "end_time": "2024-05-05T16:35:00.084742Z",
     "start_time": "2024-05-05T16:34:25.031012Z"
    }
   },
   "outputs": [
    {
     "data": {
      "text/html": [
       "<div>\n",
       "<style scoped>\n",
       "    .dataframe tbody tr th:only-of-type {\n",
       "        vertical-align: middle;\n",
       "    }\n",
       "\n",
       "    .dataframe tbody tr th {\n",
       "        vertical-align: top;\n",
       "    }\n",
       "\n",
       "    .dataframe thead th {\n",
       "        text-align: right;\n",
       "    }\n",
       "</style>\n",
       "<table border=\"1\" class=\"dataframe\">\n",
       "  <thead>\n",
       "    <tr style=\"text-align: right;\">\n",
       "      <th></th>\n",
       "      <th>count_star()</th>\n",
       "    </tr>\n",
       "  </thead>\n",
       "  <tbody>\n",
       "    <tr>\n",
       "      <th>0</th>\n",
       "      <td>20096357</td>\n",
       "    </tr>\n",
       "  </tbody>\n",
       "</table>\n",
       "</div>"
      ],
      "text/plain": [
       "   count_star()\n",
       "0      20096357"
      ]
     },
     "execution_count": 3,
     "metadata": {},
     "output_type": "execute_result"
    }
   ],
   "source": [
    "df = pl.read_database(query= 'select count(*) from fct_fa_pnl_mini', connection= fa_database).to_pandas()\n",
    "df"
   ]
  },
  {
   "cell_type": "code",
   "execution_count": 3,
   "metadata": {},
   "outputs": [
    {
     "data": {
      "text/html": [
       "<div>\n",
       "<style scoped>\n",
       "    .dataframe tbody tr th:only-of-type {\n",
       "        vertical-align: middle;\n",
       "    }\n",
       "\n",
       "    .dataframe tbody tr th {\n",
       "        vertical-align: top;\n",
       "    }\n",
       "\n",
       "    .dataframe thead th {\n",
       "        text-align: right;\n",
       "    }\n",
       "</style>\n",
       "<table border=\"1\" class=\"dataframe\">\n",
       "  <thead>\n",
       "    <tr style=\"text-align: right;\">\n",
       "      <th></th>\n",
       "      <th>complete_date</th>\n",
       "      <th>province</th>\n",
       "      <th>service_type</th>\n",
       "      <th>customer_type</th>\n",
       "      <th>partner</th>\n",
       "      <th>project</th>\n",
       "      <th>gsv_excluded_vat</th>\n",
       "      <th>stoppoint</th>\n",
       "      <th>aha_revenue</th>\n",
       "      <th>created_at</th>\n",
       "    </tr>\n",
       "  </thead>\n",
       "  <tbody>\n",
       "    <tr>\n",
       "      <th>0</th>\n",
       "      <td>2023-01-01</td>\n",
       "      <td>sgn</td>\n",
       "      <td>bike</td>\n",
       "      <td>sme</td>\n",
       "      <td>84932642119</td>\n",
       "      <td>core</td>\n",
       "      <td>53727.272727</td>\n",
       "      <td>1.0</td>\n",
       "      <td>10545.454545</td>\n",
       "      <td>2024-05-08 14:26:23.128891</td>\n",
       "    </tr>\n",
       "    <tr>\n",
       "      <th>1</th>\n",
       "      <td>2023-01-01</td>\n",
       "      <td>sgn</td>\n",
       "      <td>bike</td>\n",
       "      <td>sme</td>\n",
       "      <td>84902375853</td>\n",
       "      <td>core</td>\n",
       "      <td>48181.818182</td>\n",
       "      <td>1.0</td>\n",
       "      <td>9636.363636</td>\n",
       "      <td>2024-05-08 14:26:23.128891</td>\n",
       "    </tr>\n",
       "    <tr>\n",
       "      <th>2</th>\n",
       "      <td>2023-01-01</td>\n",
       "      <td>han</td>\n",
       "      <td>bike</td>\n",
       "      <td>sme</td>\n",
       "      <td>84948598268</td>\n",
       "      <td>core</td>\n",
       "      <td>62818.181818</td>\n",
       "      <td>1.0</td>\n",
       "      <td>12181.818182</td>\n",
       "      <td>2024-05-08 14:26:23.128891</td>\n",
       "    </tr>\n",
       "    <tr>\n",
       "      <th>3</th>\n",
       "      <td>2023-01-01</td>\n",
       "      <td>sgn</td>\n",
       "      <td>bike</td>\n",
       "      <td>sme</td>\n",
       "      <td>84937035689</td>\n",
       "      <td>core</td>\n",
       "      <td>76454.545455</td>\n",
       "      <td>2.0</td>\n",
       "      <td>14909.090909</td>\n",
       "      <td>2024-05-08 14:26:23.128891</td>\n",
       "    </tr>\n",
       "    <tr>\n",
       "      <th>4</th>\n",
       "      <td>2023-01-01</td>\n",
       "      <td>sgn</td>\n",
       "      <td>bike</td>\n",
       "      <td>sme</td>\n",
       "      <td>84908690002</td>\n",
       "      <td>core</td>\n",
       "      <td>86363.636364</td>\n",
       "      <td>3.0</td>\n",
       "      <td>17272.727273</td>\n",
       "      <td>2024-05-08 14:26:23.128891</td>\n",
       "    </tr>\n",
       "    <tr>\n",
       "      <th>...</th>\n",
       "      <td>...</td>\n",
       "      <td>...</td>\n",
       "      <td>...</td>\n",
       "      <td>...</td>\n",
       "      <td>...</td>\n",
       "      <td>...</td>\n",
       "      <td>...</td>\n",
       "      <td>...</td>\n",
       "      <td>...</td>\n",
       "      <td>...</td>\n",
       "    </tr>\n",
       "    <tr>\n",
       "      <th>20353688</th>\n",
       "      <td>2024-05-07 00:00:00</td>\n",
       "      <td>han</td>\n",
       "      <td>bike</td>\n",
       "      <td>sme</td>\n",
       "      <td>84913038305</td>\n",
       "      <td>core</td>\n",
       "      <td>50000.000000</td>\n",
       "      <td>2.0</td>\n",
       "      <td>10000.000000</td>\n",
       "      <td>2024-05-08</td>\n",
       "    </tr>\n",
       "    <tr>\n",
       "      <th>20353689</th>\n",
       "      <td>2024-05-07 00:00:00</td>\n",
       "      <td>sgn</td>\n",
       "      <td>bike</td>\n",
       "      <td>sme</td>\n",
       "      <td>84908118141</td>\n",
       "      <td>core</td>\n",
       "      <td>50000.000000</td>\n",
       "      <td>1.0</td>\n",
       "      <td>10000.000000</td>\n",
       "      <td>2024-05-08</td>\n",
       "    </tr>\n",
       "    <tr>\n",
       "      <th>20353690</th>\n",
       "      <td>2024-05-07 00:00:00</td>\n",
       "      <td>sgn</td>\n",
       "      <td>bike</td>\n",
       "      <td>sme</td>\n",
       "      <td>84914678451</td>\n",
       "      <td>core</td>\n",
       "      <td>51481.481481</td>\n",
       "      <td>1.0</td>\n",
       "      <td>10000.000000</td>\n",
       "      <td>2024-05-08</td>\n",
       "    </tr>\n",
       "    <tr>\n",
       "      <th>20353691</th>\n",
       "      <td>2024-05-07 00:00:00</td>\n",
       "      <td>han</td>\n",
       "      <td>bike</td>\n",
       "      <td>sme</td>\n",
       "      <td>84934577392</td>\n",
       "      <td>core</td>\n",
       "      <td>55666.666667</td>\n",
       "      <td>1.0</td>\n",
       "      <td>10000.000000</td>\n",
       "      <td>2024-05-08</td>\n",
       "    </tr>\n",
       "    <tr>\n",
       "      <th>20353692</th>\n",
       "      <td>2024-05-07 00:00:00</td>\n",
       "      <td>sgn</td>\n",
       "      <td>bike</td>\n",
       "      <td>sme</td>\n",
       "      <td>84963307409</td>\n",
       "      <td>core</td>\n",
       "      <td>92592.592593</td>\n",
       "      <td>2.0</td>\n",
       "      <td>20000.000000</td>\n",
       "      <td>2024-05-08</td>\n",
       "    </tr>\n",
       "  </tbody>\n",
       "</table>\n",
       "<p>20353693 rows × 10 columns</p>\n",
       "</div>"
      ],
      "text/plain": [
       "                complete_date province service_type customer_type  \\\n",
       "0                  2023-01-01      sgn         bike           sme   \n",
       "1                  2023-01-01      sgn         bike           sme   \n",
       "2                  2023-01-01      han         bike           sme   \n",
       "3                  2023-01-01      sgn         bike           sme   \n",
       "4                  2023-01-01      sgn         bike           sme   \n",
       "...                       ...      ...          ...           ...   \n",
       "20353688  2024-05-07 00:00:00      han         bike           sme   \n",
       "20353689  2024-05-07 00:00:00      sgn         bike           sme   \n",
       "20353690  2024-05-07 00:00:00      sgn         bike           sme   \n",
       "20353691  2024-05-07 00:00:00      han         bike           sme   \n",
       "20353692  2024-05-07 00:00:00      sgn         bike           sme   \n",
       "\n",
       "              partner project  gsv_excluded_vat  stoppoint   aha_revenue  \\\n",
       "0         84932642119    core      53727.272727        1.0  10545.454545   \n",
       "1         84902375853    core      48181.818182        1.0   9636.363636   \n",
       "2         84948598268    core      62818.181818        1.0  12181.818182   \n",
       "3         84937035689    core      76454.545455        2.0  14909.090909   \n",
       "4         84908690002    core      86363.636364        3.0  17272.727273   \n",
       "...               ...     ...               ...        ...           ...   \n",
       "20353688  84913038305    core      50000.000000        2.0  10000.000000   \n",
       "20353689  84908118141    core      50000.000000        1.0  10000.000000   \n",
       "20353690  84914678451    core      51481.481481        1.0  10000.000000   \n",
       "20353691  84934577392    core      55666.666667        1.0  10000.000000   \n",
       "20353692  84963307409    core      92592.592593        2.0  20000.000000   \n",
       "\n",
       "                          created_at  \n",
       "0         2024-05-08 14:26:23.128891  \n",
       "1         2024-05-08 14:26:23.128891  \n",
       "2         2024-05-08 14:26:23.128891  \n",
       "3         2024-05-08 14:26:23.128891  \n",
       "4         2024-05-08 14:26:23.128891  \n",
       "...                              ...  \n",
       "20353688                  2024-05-08  \n",
       "20353689                  2024-05-08  \n",
       "20353690                  2024-05-08  \n",
       "20353691                  2024-05-08  \n",
       "20353692                  2024-05-08  \n",
       "\n",
       "[20353693 rows x 10 columns]"
      ]
     },
     "execution_count": 3,
     "metadata": {},
     "output_type": "execute_result"
    }
   ],
   "source": [
    "df = pl.read_database(query= 'select * from fct_fa_pnl_mini', connection= fa_database).to_pandas()\n",
    "df"
   ]
  },
  {
   "cell_type": "markdown",
   "metadata": {},
   "source": [
    "##### `Delete data from db`"
   ]
  },
  {
   "cell_type": "code",
   "execution_count": null,
   "metadata": {},
   "outputs": [],
   "source": [
    "fa_database.query(\"delete from fct_fa_pnl_mini where created_at = '2024-05-08' \")\n",
    "fa_database.close()"
   ]
  },
  {
   "cell_type": "markdown",
   "metadata": {},
   "source": [
    "##### Database sample to test"
   ]
  },
  {
   "cell_type": "code",
   "execution_count": 11,
   "metadata": {},
   "outputs": [],
   "source": [
    "db_test = duckdb.connect('fa_database_copy.db')"
   ]
  },
  {
   "cell_type": "code",
   "execution_count": 15,
   "metadata": {},
   "outputs": [],
   "source": [
    "db_test.register('df',sample)\n",
    "db_test.sql(\"INSERT INTO fct_fa_pnl_mini SELECT * FROM df\")"
   ]
  },
  {
   "cell_type": "code",
   "execution_count": null,
   "metadata": {},
   "outputs": [],
   "source": []
  }
 ],
 "metadata": {
  "kernelspec": {
   "display_name": "Python 3",
   "language": "python",
   "name": "python3"
  },
  "language_info": {
   "codemirror_mode": {
    "name": "ipython",
    "version": 3
   },
   "file_extension": ".py",
   "mimetype": "text/x-python",
   "name": "python",
   "nbconvert_exporter": "python",
   "pygments_lexer": "ipython3",
   "version": "3.12.0"
  }
 },
 "nbformat": 4,
 "nbformat_minor": 2
}
