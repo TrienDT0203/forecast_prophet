{
 "cells": [
  {
   "cell_type": "code",
   "execution_count": 2,
   "metadata": {},
   "source": [
    "# !pip install duckdb-engine\n",
    "# !pip install duckdb`\n",
    "\n",
    "# con = duckdb.connect(database=':memory:', read_only=False)\n",
    "# con.execute(\"INSTALL sqlite\")"
   ],
   "outputs": []
  },
  {
   "cell_type": "markdown",
   "metadata": {
    "ExecuteTime": {
     "end_time": "2024-05-05T16:34:01.572842Z",
     "start_time": "2024-05-05T16:34:00.882212Z"
    }
   },
   "source": [
    "##### `Import lib and create a connection`"
   ]
  },
  {
   "cell_type": "code",
   "execution_count": 1,
   "metadata": {
    "ExecuteTime": {
     "end_time": "2024-05-05T16:31:52.780027Z",
     "start_time": "2024-05-05T16:31:51.331915Z"
    }
   },
   "source": [
    "import duckdb\n",
    "import polars as pl\n",
    "from datetime import datetime\n",
    "\n",
    "conn = duckdb.connect()\n",
    "conn.execute(\"LOAD sqlite;\")\n",
    "fa_database = duckdb.connect('fa_database.db')"
   ],
   "outputs": []
  },
  {
   "cell_type": "markdown",
   "metadata": {},
   "source": [
    "##### `Check no of row and fetch all data`"
   ]
  },
  {
   "cell_type": "code",
   "execution_count": 3,
   "metadata": {
    "ExecuteTime": {
     "end_time": "2024-05-05T16:35:00.084742Z",
     "start_time": "2024-05-05T16:34:25.031012Z"
    }
   },
   "source": [
    "df = pl.read_database(query= 'select count(*) from fct_fa_pnl_mini', connection= fa_database).to_pandas()\n",
    "df"
   ],
   "outputs": []
  },
  {
   "cell_type": "code",
   "execution_count": 3,
   "metadata": {},
   "source": [
    "df = pl.read_database(query= 'select * from fct_fa_pnl_mini', connection= fa_database).to_pandas()\n",
    "df"
   ],
   "outputs": []
  },
  {
   "cell_type": "markdown",
   "metadata": {},
   "source": [
    "##### `Delete data from db`"
   ]
  },
  {
   "cell_type": "code",
   "execution_count": null,
   "metadata": {},
   "source": [
    "fa_database.query(\"delete from fct_fa_pnl_mini where created_at = '2024-05-08' \")\n",
    "fa_database.close()"
   ],
   "outputs": []
  },
  {
   "cell_type": "markdown",
   "metadata": {},
   "source": [
    "##### Database sample to test"
   ]
  },
  {
   "cell_type": "code",
   "execution_count": 11,
   "metadata": {},
   "source": [
    "db_test = duckdb.connect('fa_database_copy.db')"
   ],
   "outputs": []
  },
  {
   "cell_type": "code",
   "execution_count": 15,
   "metadata": {},
   "source": [
    "db_test.register('df',sample)\n",
    "db_test.sql(\"INSERT INTO fct_fa_pnl_mini SELECT * FROM df\")"
   ],
   "outputs": []
  },
  {
   "cell_type": "code",
   "execution_count": null,
   "metadata": {},
   "source": [],
   "outputs": []
  }
 ],
 "metadata": {
  "kernelspec": {
   "display_name": "Python 3",
   "language": "python",
   "name": "python3"
  },
  "language_info": {
   "codemirror_mode": {
    "name": "ipython",
    "version": 3
   },
   "file_extension": ".py",
   "mimetype": "text/x-python",
   "name": "python",
   "nbconvert_exporter": "python",
   "pygments_lexer": "ipython3",
   "version": "3.12.0"
  }
 },
 "nbformat": 4,
 "nbformat_minor": 2
}
