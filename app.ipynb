{
 "cells": [
  {
   "cell_type": "markdown",
   "metadata": {},
   "source": [
    "### Preparation"
   ]
  },
  {
   "cell_type": "markdown",
   "metadata": {},
   "source": [
    "#### 1.1 Import library"
   ]
  },
  {
   "cell_type": "code",
   "execution_count": 1,
   "metadata": {},
   "source": [
    "import os\n",
    "import warnings\n",
    "warnings.filterwarnings(\"ignore\")\n",
    "\n",
    "import pandas as pd\n",
    "import polars as pl\n",
    "\n",
    "from src.lib.etl.class_ETL import ETL\n",
    "from src.lib.frc_model.class_Forecast_Model import Forecast_Model\n",
    "\n",
    "pd.options.display.float_format = '{:,}'.format\n",
    "pd.options.display.max_columns = 100"
   ],
   "outputs": []
  },
  {
   "cell_type": "markdown",
   "metadata": {},
   "source": [
    "#### 1.2 Create udf - user defined function"
   ]
  },
  {
   "cell_type": "code",
   "execution_count": 2,
   "metadata": {},
   "source": [
    "def filter_data_input(df, frc_value, cond):\n",
    "    \n",
    "    # fitler your df\n",
    "    if cond:\n",
    "        for _key, _values in cond.items():\n",
    "            df = df[df[_key] == _values ]\n",
    "    \n",
    "    df_pivot = df.groupby(['complete_date'],as_index = False)[frc_value].sum()\n",
    "    df_pivot.sort_values('complete_date',inplace= True)\n",
    "\n",
    "    return df_pivot"
   ],
   "outputs": []
  },
  {
   "cell_type": "markdown",
   "metadata": {},
   "source": [
    "### Forecast"
   ]
  },
  {
   "cell_type": "code",
   "execution_count": 3,
   "metadata": {},
   "source": [
    "# call triendt to handle import, export data\n",
    "triendt = ETL(credentials_file_path= './../../config/cred.json',\n",
    "              local_database= './data/database/fa_database.db'\n",
    "              )"
   ],
   "outputs": []
  },
  {
   "cell_type": "code",
   "execution_count": 5,
   "metadata": {},
   "source": [
    "# df_bigquery_data = triendt.extract_bigquery_data(start_date= '2024-05-07', table_name= 'fct_fa_pnl_mini')\n",
    "# df_bigquery_data"
   ],
   "outputs": []
  },
  {
   "cell_type": "markdown",
   "metadata": {},
   "source": [
    "##### 2.1 Check if historical data exists \n",
    "* If your local database is not update data yet. Just use function auto_updat_data above"
   ]
  },
  {
   "cell_type": "code",
   "execution_count": 4,
   "metadata": {},
   "source": [
    "df_fa_pnl_mini = triendt.extract_local_data(table_name='fct_fa_pnl_mini')\n",
    "df_fa_pnl_mini.complete_date = pd.to_datetime(df_fa_pnl_mini.complete_date, format='mixed')\n",
    "df_fa_pnl_mini.tail()"
   ],
   "outputs": []
  },
  {
   "cell_type": "code",
   "execution_count": 7,
   "metadata": {},
   "source": [
    "## to delete all data and update whole table, choose update_type = 'update_as_new'\n",
    "triendt.auto_update_data(table_name='fct_fa_pnl_mini', update_type='append')"
   ],
   "outputs": []
  },
  {
   "cell_type": "markdown",
   "metadata": {},
   "source": [
    "##### 2.2 Input filter condition below and change your df name with condition."
   ]
  },
  {
   "cell_type": "code",
   "execution_count": 15,
   "metadata": {},
   "source": [
    "filter_conditions = {\n",
    "                    # \"province\": \"han\",\n",
    "                     \"service_type\": \"truck\",\n",
    "                     }\n",
    "\n",
    "# filter_conditions = None\n",
    "\n",
    "df_historical_data = filter_data_input(df= df_fa_pnl_mini,frc_value= 'gsv_excluded_vat', cond= filter_conditions)\n",
    "\n",
    "### call forecast model\n",
    "forecast_gsv_bike_sgn = Forecast_Model(historical_data=df_historical_data,\n",
    "                                      date_column='complete_date',\n",
    "                                      forecast_value= 'gsv_excluded_vat',\n",
    "                                      )\n",
    "\n",
    "### forecast for the next 365 days\n",
    "df_forecast = forecast_gsv_bike_sgn.call_forecast_model(no_of_days_forecast= 365)\n",
    "df_forecast.tail()"
   ],
   "outputs": []
  },
  {
   "cell_type": "code",
   "execution_count": 16,
   "metadata": {},
   "source": [
    "df= forecast_gsv_bike_sgn.resample_and_plot_data(_df_forecast=df_forecast.copy(),start_date='2022-01-01')\n"
   ],
   "outputs": []
  },
  {
   "cell_type": "markdown",
   "metadata": {},
   "source": [
    "### Export data\n",
    "* call funtion export_data, provide dataframe, file type (excel or csv) and file name"
   ]
  },
  {
   "cell_type": "code",
   "execution_count": 17,
   "metadata": {},
   "source": [
    "# forecast_gsv_bike_sgn.export_data(df=df_forecast,file_name='gsv_bike_sgn',file_type='excel')\n",
    "forecast_gsv_bike_sgn.export_data(df=df_forecast,file_name='gsv_truck_24',file_type='excel')"
   ],
   "outputs": []
  },
  {
   "cell_type": "code",
   "execution_count": null,
   "metadata": {},
   "source": [],
   "outputs": []
  }
 ],
 "metadata": {
  "kernelspec": {
   "display_name": "Python 3",
   "language": "python",
   "name": "python3"
  },
  "language_info": {
   "codemirror_mode": {
    "name": "ipython",
    "version": 3
   },
   "file_extension": ".py",
   "mimetype": "text/x-python",
   "name": "python",
   "nbconvert_exporter": "python",
   "pygments_lexer": "ipython3",
   "version": "3.12.0"
  }
 },
 "nbformat": 4,
 "nbformat_minor": 2
}
