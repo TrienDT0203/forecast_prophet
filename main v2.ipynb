{
 "cells": [
  {
   "cell_type": "markdown",
   "metadata": {},
   "source": [
    "### Preparation"
   ]
  },
  {
   "cell_type": "markdown",
   "metadata": {},
   "source": [
    "#### 1.1 Import library"
   ]
  },
  {
   "cell_type": "code",
   "execution_count": 1,
   "metadata": {},
   "source": [
    "import warnings\n",
    "warnings.filterwarnings(\"ignore\")\n",
    "\n",
    "import pandas as pd\n",
    "from forecast.class_Forecast_Model import Forecast_Model\n",
    "from create_database.class_ETL import ETL \n",
    "\n",
    "pd.options.display.float_format = '{:,}'.format\n",
    "pd.options.display.max_columns = 100\n"
   ],
   "outputs": []
  },
  {
   "cell_type": "code",
   "execution_count": 2,
   "metadata": {},
   "source": [
    "###########################################################################################################################################################################################################################################\n",
    "##  What can triendt can do for you? let type: triendt and the dot like \"triendt.\"    \n",
    "##                                                                                                                                               \n",
    "##  As you can see, triendt has 4 functions which are:                                                                                                                                                                               \n",
    "##      1. triendt.extract_bigquery_data(start_date=, table_name= )                                                                                                                                                                  \n",
    "##      2. triendt.extract_local_data(table_name=)                                                                                                                                                                                   \n",
    "##      3. triendt.ingest_data_to_sqlite(data_ingest=, table_name=)                                                                                                                                                                  \n",
    "##      4. triendt.auto_ingest_data(table_name=)                                                                                                                                                                                     \n",
    "###########################################################################################################################################################################################################################################\n",
    "## 1. function extract_bigquery_data\n",
    "##    >> extract data from an sql file, which is saved in create_database folder.  If you want to extract another table, create a file contains sql script, save it with the table_name.sql and store it in create_database folder\n",
    "##    >> start_date is the date that you want to view\n",
    "##    >> table_name is the name of the file, you can think of a sql file like a metabase card withou filter anything.\n",
    "## \n",
    "## 2. function extract_local_data\n",
    "##    >> extract data from fa_database.db file, you can check it out at this link (https://sqliteviewer.app/) to see which table already exists in local db\n",
    "##    >> table_name is the name of table already has data locally   \n",
    "##\n",
    "## 3. ingest_data_to_sqlite \n",
    "##    >> use to insert data local, avoid being updated lately.\n",
    "##    >> table_name is the name of table already has data locally   \n",
    "## Note: Carefully when use it funcion, because this function allow use insert data without check out whether new data to insert already exist in DB. As a result, data could be duplicated, and downstreaming purpose would be incorect.\n",
    "##\n",
    "## 4. auto_ingest_data\n",
    "##    >> use this function to update data in database locally without being afraid of data duplicate\n",
    "##    >> data will be updated with current date - 1 day. \n",
    "############################################################################################################################################################################################################################################"
   ],
   "outputs": []
  },
  {
   "cell_type": "markdown",
   "metadata": {},
   "source": [
    "#### 1.2 Create udf - user defined function"
   ]
  },
  {
   "cell_type": "code",
   "execution_count": 2,
   "metadata": {},
   "source": [
    "def filter_data_input(df, frc_value, cond):\n",
    "    \n",
    "    # fitler your df\n",
    "    if cond:\n",
    "        for _key, _values in cond.items():\n",
    "            df = df[df[_key] == _values ]\n",
    "    \n",
    "    df_pivot = df.groupby(['complete_date'],as_index = False)[frc_value].sum()\n",
    "    df_pivot.sort_values('complete_date',inplace= True)\n",
    "\n",
    "    return df_pivot"
   ],
   "outputs": []
  },
  {
   "cell_type": "markdown",
   "metadata": {},
   "source": [
    "### Forecast"
   ]
  },
  {
   "cell_type": "code",
   "execution_count": 3,
   "metadata": {},
   "source": [
    "# call triendt to handle import, export data\n",
    "triendt = ETL(credentials_file_path= './../_config/cred.json',\n",
    "              local_database= './../_data_raw/fa_database.db'\n",
    "              )"
   ],
   "outputs": []
  },
  {
   "cell_type": "code",
   "execution_count": 15,
   "metadata": {},
   "source": [
    "df_bigquery_data = triendt.extract_bigquery_data(start_date= '2024-04-01', table_name= 'fct_fa_pnl_mini')\n",
    "df_bigquery_data"
   ],
   "outputs": []
  },
  {
   "cell_type": "markdown",
   "metadata": {},
   "source": [
    "##### 2.1 Check if historical data exists \n",
    "* If your local database is not update data yet. Just use function auto_updat_data above"
   ]
  },
  {
   "cell_type": "code",
   "execution_count": 6,
   "metadata": {},
   "source": [
    "df_fa_pnl_mini = triendt.extract_local_data(table_name='fct_fa_pnl_mini')\n",
    "df_fa_pnl_mini"
   ],
   "outputs": []
  },
  {
   "cell_type": "code",
   "execution_count": 5,
   "metadata": {},
   "source": [
    "## to delete all data and update whole table, choose update_type = 'update_as_new'\n",
    "triendt.auto_update_data(table_name='fct_fa_pnl_mini', update_type='append')"
   ],
   "outputs": []
  },
  {
   "cell_type": "markdown",
   "metadata": {},
   "source": [
    "##### 2.2 Input filter condition below and change your df name with condition."
   ]
  },
  {
   "cell_type": "code",
   "execution_count": 6,
   "metadata": {},
   "source": [
    "filter_conditions = {\"province\": \"han\",\n",
    "                     \"service_type\": \"truck\",\n",
    "                     }\n",
    "\n",
    "df_historical_data = filter_data_input(df= df_fa_pnl_mini,frc_value= 'gsv_excluded_vat', cond= filter_conditions)\n",
    "\n",
    "print('''Your historical data:''')\n",
    "\n",
    "df_historical_data.head()"
   ],
   "outputs": []
  },
  {
   "cell_type": "code",
   "execution_count": 7,
   "metadata": {},
   "source": [
    "### call forecast model\n",
    "forecast_gsv_bike_sgn = Forecast_Model(historical_data=df_historical_data,\n",
    "                                      date_column='complete_date',\n",
    "                                      forecast_value= 'gsv_excluded_vat',\n",
    "                                      )\n",
    "\n",
    "### forecast for the next 365 days\n",
    "df_forecast = forecast_gsv_bike_sgn.call_forecast_model(no_of_days_forecast= 365)\n",
    "df_forecast"
   ],
   "outputs": []
  },
  {
   "cell_type": "code",
   "execution_count": 8,
   "metadata": {},
   "source": [
    "forecast_gsv_bike_sgn.resample_and_plot_data(df_forecast=df_forecast,start_date='2022-01-01')\n"
   ],
   "outputs": []
  },
  {
   "cell_type": "markdown",
   "metadata": {},
   "source": [
    "### Export data\n",
    "* call funtion export_data, provide dataframe, file type (excel or csv) and file name"
   ]
  },
  {
   "cell_type": "code",
   "execution_count": 9,
   "metadata": {},
   "source": [
    "# forecast_gsv_bike_sgn.export_data(df=df_forecast,file_name='gsv_bike_sgn',file_type='excel')\n",
    "forecast_gsv_bike_sgn.export_data(df=df_forecast,file_name='gsv_truck_sgn',file_type='csv')"
   ],
   "outputs": []
  },
  {
   "cell_type": "code",
   "execution_count": null,
   "metadata": {},
   "source": [],
   "outputs": []
  }
 ],
 "metadata": {
  "kernelspec": {
   "display_name": "Python 3",
   "language": "python",
   "name": "python3"
  },
  "language_info": {
   "codemirror_mode": {
    "name": "ipython",
    "version": 3
   },
   "file_extension": ".py",
   "mimetype": "text/x-python",
   "name": "python",
   "nbconvert_exporter": "python",
   "pygments_lexer": "ipython3",
   "version": "3.12.0"
  }
 },
 "nbformat": 4,
 "nbformat_minor": 2
}
