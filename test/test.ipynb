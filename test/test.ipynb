{
 "cells": [
  {
   "cell_type": "code",
   "execution_count": 7,
   "metadata": {},
   "source": [
    "import sqlite3\n",
    "import sql_queries as sq\n",
    "import pandas as pd\n",
    "\n",
    "db_conn = sqlite3.connect('./../../_data_raw/fa_database.db')"
   ],
   "outputs": []
  },
  {
   "cell_type": "code",
   "execution_count": 16,
   "metadata": {},
   "source": [
    "# create tables in create_table_list\n",
    "for table in sq.create_table_list:\n",
    "    cursor = db_conn.cursor()\n",
    "    \n",
    "    try:\n",
    "        cursor.execute(table)\n",
    "        db_conn.commit()\n",
    "        cursor.close()\n",
    "    except Exception as e:\n",
    "        print(e)\n",
    "        db_conn.rollback()\n",
    "        cursor.close()"
   ],
   "outputs": []
  },
  {
   "cell_type": "code",
   "execution_count": 2,
   "metadata": {},
   "source": [
    "# drop tables in create_table_list\n",
    "#for table in sq.drop_table_list:\n",
    "#    cursor = db_conn.cursor()\n",
    "#    \n",
    "#    try:\n",
    "#        cursor.execute(table)\n",
    "#        db_conn.commit()\n",
    "#        cursor.close()\n",
    "#    except Exception as e:\n",
    "#        print(e)\n",
    "#        db_conn.rollback()\n",
    "#        cursor.close()\n",
    "\n",
    "# DROP TABLE MANUALLY\n",
    "# table_to_drop = 'ov_revenue'\n",
    "# cursor = db_conn.cursor()\n",
    "# cursor.execute('drop table if exists %s' %table_to_drop)\n",
    "# cursor.commit()"
   ],
   "outputs": []
  },
  {
   "cell_type": "code",
   "execution_count": 10,
   "metadata": {},
   "source": [
    "## test extract and load data from bigquery to local db\n",
    "from  class_ETL import ETL\n",
    "\n",
    "worker = ETL(\n",
    "            credentials_file_path= './../../_config/cred.json',\n",
    "             local_database= './../../_data_raw/fa_database.db'\n",
    "             )\n"
   ],
   "outputs": []
  },
  {
   "cell_type": "code",
   "execution_count": 2,
   "metadata": {},
   "source": [
    "df_bigquery_data = worker.extract_bigquery_data(start_date= '2024-01-01')\n",
    "df_bigquery_data"
   ],
   "outputs": []
  },
  {
   "cell_type": "code",
   "execution_count": 11,
   "metadata": {},
   "source": [
    "df_fct_fa_pnl_mini = worker.extract_local_data(table_name='fct_fa_pnl_mini')\n",
    "df_fct_fa_pnl_mini"
   ],
   "outputs": []
  },
  {
   "cell_type": "code",
   "execution_count": 4,
   "metadata": {},
   "source": [
    "# test load data to local db with specific start_date to insert\n",
    "worker.load_data(data_ingest= df_bigquery_data.to_records(index=False).tolist(), table_name= 'fct_fa_pnl_mini' )"
   ],
   "outputs": []
  },
  {
   "cell_type": "code",
   "execution_count": 3,
   "metadata": {},
   "source": [
    "# test load data automatically from lastest complete_date in fct_fa_pnl_mini to current_date - 1 day\n",
    "worker.auto_ingest_data(table_name='fct_fa_pnl_mini')"
   ],
   "outputs": []
  },
  {
   "cell_type": "code",
   "execution_count": 10,
   "metadata": {},
   "source": [
    "import requests\n",
    "\n",
    "res = requests.get(f'https://api.vietqr.io/v2/business/0107370860',timeout=1000)\n",
    "res\n",
    "res.json()"
   ],
   "outputs": []
  },
  {
   "cell_type": "code",
   "execution_count": null,
   "metadata": {},
   "source": [],
   "outputs": []
  }
 ],
 "metadata": {
  "kernelspec": {
   "display_name": "Python 3",
   "language": "python",
   "name": "python3"
  },
  "language_info": {
   "codemirror_mode": {
    "name": "ipython",
    "version": 3
   },
   "file_extension": ".py",
   "mimetype": "text/x-python",
   "name": "python",
   "nbconvert_exporter": "python",
   "pygments_lexer": "ipython3",
   "version": "3.12.0"
  }
 },
 "nbformat": 4,
 "nbformat_minor": 2
}
